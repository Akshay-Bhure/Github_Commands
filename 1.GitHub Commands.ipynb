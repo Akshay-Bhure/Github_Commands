{
 "cells": [
  {
   "cell_type": "markdown",
   "metadata": {},
   "source": [
    "## different Platforms"
   ]
  },
  {
   "cell_type": "code",
   "execution_count": null,
   "metadata": {},
   "outputs": [],
   "source": [
    "1. Github\n",
    "2. Gitbash\n",
    "3. Gitlab\n",
    "4. Bitbucket"
   ]
  },
  {
   "cell_type": "markdown",
   "metadata": {},
   "source": [
    "## 1. Clonning The reposatory"
   ]
  },
  {
   "cell_type": "code",
   "execution_count": null,
   "metadata": {},
   "outputs": [],
   "source": [
    "git clone reposatory_url \n",
    ">> it will clone/copy all the files in local system"
   ]
  },
  {
   "cell_type": "markdown",
   "metadata": {},
   "source": [
    "## 2. Checking the status of reposatory"
   ]
  },
  {
   "cell_type": "code",
   "execution_count": null,
   "metadata": {},
   "outputs": [],
   "source": [
    "git status\n",
    ">> it will give you the details of modified and untracked files. untack file means new added file modified means \n",
    "original modify files"
   ]
  },
  {
   "cell_type": "markdown",
   "metadata": {},
   "source": [
    "## 3. Commands for modified and added files"
   ]
  },
  {
   "cell_type": "code",
   "execution_count": null,
   "metadata": {},
   "outputs": [],
   "source": [
    "git add file_name >>> when there is one file.\n",
    "git add --all >> multiple files\n",
    "git add . >> multiple files"
   ]
  },
  {
   "cell_type": "markdown",
   "metadata": {},
   "source": [
    "## 4. For commiting and message "
   ]
  },
  {
   "cell_type": "code",
   "execution_count": null,
   "metadata": {},
   "outputs": [],
   "source": [
    "git commit -m 'MSG'"
   ]
  },
  {
   "cell_type": "markdown",
   "metadata": {},
   "source": [
    "## 5. for Pushing the files means finalize the files"
   ]
  },
  {
   "cell_type": "code",
   "execution_count": null,
   "metadata": {},
   "outputs": [],
   "source": [
    "git push >> everything will reflect after this command."
   ]
  },
  {
   "cell_type": "markdown",
   "metadata": {},
   "source": [
    "## 6.To push the current branch and set the remote as upstream"
   ]
  },
  {
   "cell_type": "code",
   "execution_count": null,
   "metadata": {},
   "outputs": [],
   "source": [
    "git push --set-upstream origin branch name  >> it will push all created branches in github means shows branches in github site "
   ]
  },
  {
   "cell_type": "markdown",
   "metadata": {},
   "source": [
    "## 7. check a branch"
   ]
  },
  {
   "cell_type": "code",
   "execution_count": null,
   "metadata": {},
   "outputs": [],
   "source": [
    "git branch >> give a list branches and also show you that which is an active one."
   ]
  },
  {
   "cell_type": "markdown",
   "metadata": {},
   "source": [
    "## 8. create new branch"
   ]
  },
  {
   "cell_type": "code",
   "execution_count": null,
   "metadata": {},
   "outputs": [],
   "source": [
    "git checkout -b branch_name >> it add new branch and also switch to same."
   ]
  },
  {
   "cell_type": "markdown",
   "metadata": {},
   "source": [
    "## 9. Switch to another branch"
   ]
  },
  {
   "cell_type": "code",
   "execution_count": null,
   "metadata": {},
   "outputs": [],
   "source": [
    "git checkout branch_name"
   ]
  },
  {
   "cell_type": "markdown",
   "metadata": {},
   "source": [
    "## 10. Merging the branches"
   ]
  },
  {
   "cell_type": "code",
   "execution_count": null,
   "metadata": {},
   "outputs": [],
   "source": [
    "git pull origin main"
   ]
  },
  {
   "cell_type": "markdown",
   "metadata": {},
   "source": [
    "## 11.How To Delete A Git Branch Locally and Remotely"
   ]
  },
  {
   "cell_type": "code",
   "execution_count": null,
   "metadata": {},
   "outputs": [],
   "source": [
    "git branch -d branch-name // Local\n",
    "git branch -D branch-name // Local\n",
    "\n",
    "git push origin --delete branch-name // Remote\n",
    "git push origin :branch-name // Remote"
   ]
  },
  {
   "cell_type": "markdown",
   "metadata": {},
   "source": [
    "## 12.How to undo git and command before commit"
   ]
  },
  {
   "cell_type": "code",
   "execution_count": null,
   "metadata": {},
   "outputs": [],
   "source": [
    "git reset filename // Revert single file\n",
    "\n",
    "git reset // Revert all files"
   ]
  },
  {
   "cell_type": "markdown",
   "metadata": {},
   "source": [
    "# 13.To set your account deafault identity"
   ]
  },
  {
   "cell_type": "code",
   "execution_count": null,
   "metadata": {},
   "outputs": [],
   "source": [
    "git config --global user.email \"you@example.com\"\n",
    "git config --global user.name \"Your Name\""
   ]
  },
  {
   "cell_type": "code",
   "execution_count": null,
   "metadata": {},
   "outputs": [],
   "source": [
    "…or create a new repository on the command line\n",
    "echo \"# Anaconda_Prompt_Commands\" >> README.md\n",
    "git init\n",
    "git add README.md\n",
    "git commit -m \"first commit\"\n",
    "git branch -M main\n",
    "git remote add origin https://github.com/Akshay-Bhure/Anaconda_Prompt_Commands.git\n",
    "git push -u origin main\n",
    "…or push an existing repository from the command line\n",
    "git remote add origin https://github.com/Akshay-Bhure/Anaconda_Prompt_Commands.git\n",
    "git branch -M main\n",
    "git push -u origin main"
   ]
  },
  {
   "cell_type": "markdown",
   "metadata": {},
   "source": [
    "# Some New Commands"
   ]
  },
  {
   "cell_type": "raw",
   "metadata": {},
   "source": [
    "Open the project folder : \n",
    "    Open in terminal/GitBash here\n",
    "    git init >> it simply means in our project folder invisible folder created\n",
    "    git status\n",
    "    git add .  (You can add individual files with commit)\n",
    "    git commit -m \"Added all files\"Open the github account : \n",
    "    Create new repository\n",
    "    Copy the link created \n",
    "    Open the terminal : \n",
    "    git remote add origin (paste your link)\n",
    "    git branch -M main\n",
    "    git push origin main\n",
    "    Type your github username\n",
    "    Type your Personal Access Token (PAT)\n",
    "    Refresh your git repository (All the files will be pushed on your github repo)  "
   ]
  },
  {
   "cell_type": "markdown",
   "metadata": {},
   "source": [
    "## Remote"
   ]
  },
  {
   "cell_type": "code",
   "execution_count": null,
   "metadata": {},
   "outputs": [],
   "source": [
    "original github file"
   ]
  },
  {
   "cell_type": "markdown",
   "metadata": {},
   "source": [
    "## Local "
   ]
  },
  {
   "cell_type": "raw",
   "metadata": {},
   "source": [
    "cloned local file in desktop"
   ]
  },
  {
   "cell_type": "markdown",
   "metadata": {},
   "source": [
    "## file names examples"
   ]
  },
  {
   "cell_type": "code",
   "execution_count": null,
   "metadata": {},
   "outputs": [],
   "source": [
    "ActionServiceRequest.py\n",
    "ActionSituationId.py"
   ]
  },
  {
   "cell_type": "markdown",
   "metadata": {},
   "source": [
    "## import code from another repository"
   ]
  },
  {
   "cell_type": "raw",
   "metadata": {},
   "source": [
    "You can initialize this repository with code from a Subversion, Mercurial, or TFS project."
   ]
  },
  {
   "cell_type": "markdown",
   "metadata": {},
   "source": [
    "## Branches name examples"
   ]
  },
  {
   "cell_type": "raw",
   "metadata": {},
   "source": [
    "chatbot/production/Shamal\n",
    "chatbot/production/xyz\n",
    "chatbot/development/Shamal\n",
    "chatbot/development/abc\n",
    "chatbot/development/xyz"
   ]
  },
  {
   "cell_type": "code",
   "execution_count": null,
   "metadata": {},
   "outputs": [],
   "source": []
  }
 ],
 "metadata": {
  "kernelspec": {
   "display_name": "Python 3 (ipykernel)",
   "language": "python",
   "name": "python3"
  },
  "language_info": {
   "codemirror_mode": {
    "name": "ipython",
    "version": 3
   },
   "file_extension": ".py",
   "mimetype": "text/x-python",
   "name": "python",
   "nbconvert_exporter": "python",
   "pygments_lexer": "ipython3",
   "version": "3.9.12"
  }
 },
 "nbformat": 4,
 "nbformat_minor": 4
}
